{
 "cells": [
  {
   "cell_type": "code",
   "execution_count": 1,
   "id": "d4f8e175",
   "metadata": {},
   "outputs": [
    {
     "name": "stdout",
     "output_type": "stream",
     "text": [
      "<bound method NDFrame.head of               id target  day month  duration  contactId  age  gender  \\\n",
      "0      432148809     no   27   may       166        623   30  female   \n",
      "1      432184318     no   26   oct       183       1992   42  female   \n",
      "2      432182482     no    5   jun       227       2778   26  female   \n",
      "3      432150520     no    2   jun        31       3070   34    male   \n",
      "4      432145870     no   15   may      1231       6583   48    male   \n",
      "...          ...    ...  ...   ...       ...        ...  ...     ...   \n",
      "31475  432184725    yes   30   nov      1628   69542367   58  female   \n",
      "31476  432147139     no   21   may       173   69542565   40  female   \n",
      "31477  432166958     no   17   nov       422   69543453   51  female   \n",
      "31478  432166312     no   29   aug        69   69544121   30    male   \n",
      "31479  432171709     no    2   feb       171   69546604   50    male   \n",
      "\n",
      "              job maritalStatus        education creditFailure  \\\n",
      "0          worker       married       highSchool            no   \n",
      "1         manager       married     uniGraduated            no   \n",
      "2        services        single       highSchool            no   \n",
      "3      unemployed      divorced     uniGraduated           yes   \n",
      "4          worker       married  secondarySchool            no   \n",
      "...           ...           ...              ...           ...   \n",
      "31475   technical       married       highSchool            no   \n",
      "31476     manager        single  secondarySchool            no   \n",
      "31477      worker       married       highSchool            no   \n",
      "31478   technical       married     uniGraduated            no   \n",
      "31479   technical      divorced       highSchool            no   \n",
      "\n",
      "       accountBalance house credit contactType  numberOfContacts  \\\n",
      "0                -202    no     no     unknown                 2   \n",
      "1                2463    no     no   cellPhone                 2   \n",
      "2                2158   yes    yes    landline                 1   \n",
      "3                  75   yes     no     unknown                 3   \n",
      "4                 559   yes     no     unknown                 2   \n",
      "...               ...   ...    ...         ...               ...   \n",
      "31475            3399    no     no    landline                 2   \n",
      "31476             858   yes     no     unknown                 1   \n",
      "31477            1414   yes     no     unknown                 3   \n",
      "31478               1    no     no   cellPhone                21   \n",
      "31479               8    no     no   cellPhone                 2   \n",
      "\n",
      "       daySinceLastCampaign  numberOfContactsLastCampaign lastCampaignResult  \n",
      "0                       NaN                             0            unknown  \n",
      "1                       NaN                             0            unknown  \n",
      "2                       NaN                             0            unknown  \n",
      "3                       NaN                             0            unknown  \n",
      "4                       NaN                             0            unknown  \n",
      "...                     ...                           ...                ...  \n",
      "31475                 188.0                             8            success  \n",
      "31476                   NaN                             0            unknown  \n",
      "31477                 186.0                             2            failure  \n",
      "31478                   NaN                             0            unknown  \n",
      "31479                   5.0                             1              other  \n",
      "\n",
      "[31480 rows x 20 columns]>\n"
     ]
    }
   ],
   "source": [
    "#Loading the data\n",
    "\n",
    "import os\n",
    "import pandas as pd\n",
    "\n",
    "df= pd.read_csv('train.csv')\n",
    "print(df.head)"
   ]
  },
  {
   "cell_type": "code",
   "execution_count": 2,
   "id": "f45efac5",
   "metadata": {},
   "outputs": [
    {
     "data": {
      "text/plain": [
       "['id',\n",
       " 'target',\n",
       " 'day',\n",
       " 'month',\n",
       " 'duration',\n",
       " 'contactId',\n",
       " 'age',\n",
       " 'gender',\n",
       " 'job',\n",
       " 'maritalStatus',\n",
       " 'education',\n",
       " 'creditFailure',\n",
       " 'accountBalance',\n",
       " 'house',\n",
       " 'credit',\n",
       " 'contactType',\n",
       " 'numberOfContacts',\n",
       " 'daySinceLastCampaign',\n",
       " 'numberOfContactsLastCampaign',\n",
       " 'lastCampaignResult']"
      ]
     },
     "execution_count": 2,
     "metadata": {},
     "output_type": "execute_result"
    }
   ],
   "source": [
    "# getting the columns of the dataset\n",
    "columns = list(df.columns)\n",
    "columns"
   ]
  },
  {
   "cell_type": "code",
   "execution_count": 3,
   "id": "8523fad8",
   "metadata": {},
   "outputs": [
    {
     "name": "stdout",
     "output_type": "stream",
     "text": [
      "Missing values distribution: \n",
      "id                              0.000000\n",
      "target                          0.000000\n",
      "day                             0.000000\n",
      "month                           0.000000\n",
      "duration                        0.000000\n",
      "contactId                       0.000000\n",
      "age                             0.000000\n",
      "gender                          0.000000\n",
      "job                             0.000000\n",
      "maritalStatus                   0.000000\n",
      "education                       0.000000\n",
      "creditFailure                   0.000000\n",
      "accountBalance                  0.000000\n",
      "house                           0.000000\n",
      "credit                          0.000000\n",
      "contactType                     0.000000\n",
      "numberOfContacts                0.000000\n",
      "daySinceLastCampaign            0.817726\n",
      "numberOfContactsLastCampaign    0.000000\n",
      "lastCampaignResult              0.000000\n",
      "dtype: float64\n",
      "\n"
     ]
    }
   ],
   "source": [
    "# examining missing values\n",
    "print(\"Missing values distribution: \")\n",
    "print(df.isnull().mean())\n",
    "print(\"\")"
   ]
  },
  {
   "cell_type": "code",
   "execution_count": 6,
   "id": "360df566",
   "metadata": {},
   "outputs": [
    {
     "name": "stdout",
     "output_type": "stream",
     "text": [
      "<class 'pandas.core.frame.DataFrame'>\n",
      "RangeIndex: 31480 entries, 0 to 31479\n",
      "Data columns (total 20 columns):\n",
      " #   Column                        Non-Null Count  Dtype  \n",
      "---  ------                        --------------  -----  \n",
      " 0   id                            31480 non-null  int64  \n",
      " 1   target                        31480 non-null  object \n",
      " 2   day                           31480 non-null  int64  \n",
      " 3   month                         31480 non-null  object \n",
      " 4   duration                      31480 non-null  int64  \n",
      " 5   contactId                     31480 non-null  int64  \n",
      " 6   age                           31480 non-null  int64  \n",
      " 7   gender                        31480 non-null  object \n",
      " 8   job                           31480 non-null  object \n",
      " 9   maritalStatus                 31480 non-null  object \n",
      " 10  education                     31480 non-null  object \n",
      " 11  creditFailure                 31480 non-null  object \n",
      " 12  accountBalance                31480 non-null  int64  \n",
      " 13  house                         31480 non-null  object \n",
      " 14  credit                        31480 non-null  object \n",
      " 15  contactType                   31480 non-null  object \n",
      " 16  numberOfContacts              31480 non-null  int64  \n",
      " 17  daySinceLastCampaign          5738 non-null   float64\n",
      " 18  numberOfContactsLastCampaign  31480 non-null  int64  \n",
      " 19  lastCampaignResult            31480 non-null  object \n",
      "dtypes: float64(1), int64(8), object(11)\n",
      "memory usage: 4.8+ MB\n"
     ]
    }
   ],
   "source": [
    "df.info()"
   ]
  },
  {
   "cell_type": "markdown",
   "id": "f63e4d6a",
   "metadata": {},
   "source": [
    "\"daySinceLastCampaign\" has a ton of null values. Because these null values equal that these contacts have not previously been contacted, I will put a -1 in its place to remove these null values."
   ]
  },
  {
   "cell_type": "code",
   "execution_count": 7,
   "id": "ac0d30d4",
   "metadata": {},
   "outputs": [],
   "source": [
    "df['daySinceLastCampaign'].fillna(-1, inplace=True)"
   ]
  },
  {
   "cell_type": "code",
   "execution_count": 8,
   "id": "8a6ece02",
   "metadata": {},
   "outputs": [
    {
     "name": "stdout",
     "output_type": "stream",
     "text": [
      "<class 'pandas.core.frame.DataFrame'>\n",
      "RangeIndex: 31480 entries, 0 to 31479\n",
      "Data columns (total 20 columns):\n",
      " #   Column                        Non-Null Count  Dtype  \n",
      "---  ------                        --------------  -----  \n",
      " 0   id                            31480 non-null  int64  \n",
      " 1   target                        31480 non-null  object \n",
      " 2   day                           31480 non-null  int64  \n",
      " 3   month                         31480 non-null  object \n",
      " 4   duration                      31480 non-null  int64  \n",
      " 5   contactId                     31480 non-null  int64  \n",
      " 6   age                           31480 non-null  int64  \n",
      " 7   gender                        31480 non-null  object \n",
      " 8   job                           31480 non-null  object \n",
      " 9   maritalStatus                 31480 non-null  object \n",
      " 10  education                     31480 non-null  object \n",
      " 11  creditFailure                 31480 non-null  object \n",
      " 12  accountBalance                31480 non-null  int64  \n",
      " 13  house                         31480 non-null  object \n",
      " 14  credit                        31480 non-null  object \n",
      " 15  contactType                   31480 non-null  object \n",
      " 16  numberOfContacts              31480 non-null  int64  \n",
      " 17  daySinceLastCampaign          31480 non-null  float64\n",
      " 18  numberOfContactsLastCampaign  31480 non-null  int64  \n",
      " 19  lastCampaignResult            31480 non-null  object \n",
      "dtypes: float64(1), int64(8), object(11)\n",
      "memory usage: 4.8+ MB\n"
     ]
    }
   ],
   "source": [
    "df.info()"
   ]
  },
  {
   "cell_type": "markdown",
   "id": "da9a8a1c",
   "metadata": {},
   "source": [
    "Now all the columns are filled in. I will explore the dataset to see if there is any more cleaning that needs to be done."
   ]
  },
  {
   "cell_type": "code",
   "execution_count": 9,
   "id": "3bb43b40",
   "metadata": {},
   "outputs": [
    {
     "data": {
      "text/plain": [
       "unknown    25746\n",
       "failure     3403\n",
       "other       1294\n",
       "success     1037\n",
       "Name: lastCampaignResult, dtype: int64"
      ]
     },
     "execution_count": 9,
     "metadata": {},
     "output_type": "execute_result"
    }
   ],
   "source": [
    "df['lastCampaignResult'].value_counts()"
   ]
  },
  {
   "cell_type": "code",
   "execution_count": 23,
   "id": "8a7e5723",
   "metadata": {},
   "outputs": [
    {
     "data": {
      "text/plain": [
       "0      25742\n",
       "1       1912\n",
       "2       1466\n",
       "3        796\n",
       "4        502\n",
       "5        324\n",
       "6        200\n",
       "7        139\n",
       "8         86\n",
       "9         65\n",
       "11        48\n",
       "10        39\n",
       "12        30\n",
       "13        24\n",
       "14        14\n",
       "17        13\n",
       "15        13\n",
       "19        11\n",
       "16         7\n",
       "20         6\n",
       "23         6\n",
       "18         5\n",
       "27         4\n",
       "21         3\n",
       "29         3\n",
       "25         3\n",
       "24         3\n",
       "30         3\n",
       "22         2\n",
       "38         2\n",
       "37         2\n",
       "40         1\n",
       "51         1\n",
       "32         1\n",
       "275        1\n",
       "55         1\n",
       "41         1\n",
       "35         1\n",
       "Name: numberOfContactsLastCampaign, dtype: int64"
      ]
     },
     "execution_count": 23,
     "metadata": {},
     "output_type": "execute_result"
    }
   ],
   "source": [
    "df['numberOfContactsLastCampaign'].value_counts()"
   ]
  },
  {
   "cell_type": "code",
   "execution_count": 24,
   "id": "fd589740",
   "metadata": {},
   "outputs": [
    {
     "data": {
      "text/plain": [
       "no     27780\n",
       "yes     3700\n",
       "Name: target, dtype: int64"
      ]
     },
     "execution_count": 24,
     "metadata": {},
     "output_type": "execute_result"
    }
   ],
   "source": [
    "df['target'].value_counts()"
   ]
  },
  {
   "cell_type": "code",
   "execution_count": 25,
   "id": "28460f5e",
   "metadata": {},
   "outputs": [
    {
     "data": {
      "text/plain": [
       "cellPhone    20353\n",
       "unknown       9079\n",
       "landline      2048\n",
       "Name: contactType, dtype: int64"
      ]
     },
     "execution_count": 25,
     "metadata": {},
     "output_type": "execute_result"
    }
   ],
   "source": [
    "df['contactType'].value_counts()"
   ]
  },
  {
   "cell_type": "code",
   "execution_count": 26,
   "id": "0aed68d6",
   "metadata": {},
   "outputs": [
    {
     "data": {
      "text/html": [
       "<div>\n",
       "<style scoped>\n",
       "    .dataframe tbody tr th:only-of-type {\n",
       "        vertical-align: middle;\n",
       "    }\n",
       "\n",
       "    .dataframe tbody tr th {\n",
       "        vertical-align: top;\n",
       "    }\n",
       "\n",
       "    .dataframe thead th {\n",
       "        text-align: right;\n",
       "    }\n",
       "</style>\n",
       "<table border=\"1\" class=\"dataframe\">\n",
       "  <thead>\n",
       "    <tr style=\"text-align: right;\">\n",
       "      <th></th>\n",
       "      <th>id</th>\n",
       "      <th>day</th>\n",
       "      <th>duration</th>\n",
       "      <th>contactId</th>\n",
       "      <th>age</th>\n",
       "      <th>accountBalance</th>\n",
       "      <th>numberOfContacts</th>\n",
       "      <th>daySinceLastCampaign</th>\n",
       "      <th>numberOfContactsLastCampaign</th>\n",
       "    </tr>\n",
       "  </thead>\n",
       "  <tbody>\n",
       "    <tr>\n",
       "      <th>count</th>\n",
       "      <td>3.148000e+04</td>\n",
       "      <td>31480.000000</td>\n",
       "      <td>31480.000000</td>\n",
       "      <td>3.148000e+04</td>\n",
       "      <td>31480.000000</td>\n",
       "      <td>31480.000000</td>\n",
       "      <td>31480.000000</td>\n",
       "      <td>31480.000000</td>\n",
       "      <td>31480.000000</td>\n",
       "    </tr>\n",
       "    <tr>\n",
       "      <th>mean</th>\n",
       "      <td>4.321650e+08</td>\n",
       "      <td>15.799015</td>\n",
       "      <td>258.498380</td>\n",
       "      <td>3.464717e+07</td>\n",
       "      <td>40.935737</td>\n",
       "      <td>1348.535133</td>\n",
       "      <td>2.779670</td>\n",
       "      <td>40.243679</td>\n",
       "      <td>0.584339</td>\n",
       "    </tr>\n",
       "    <tr>\n",
       "      <th>std</th>\n",
       "      <td>1.304725e+04</td>\n",
       "      <td>8.323251</td>\n",
       "      <td>256.576891</td>\n",
       "      <td>2.011538e+07</td>\n",
       "      <td>10.629198</td>\n",
       "      <td>2974.355578</td>\n",
       "      <td>3.139269</td>\n",
       "      <td>100.521310</td>\n",
       "      <td>2.469742</td>\n",
       "    </tr>\n",
       "    <tr>\n",
       "      <th>min</th>\n",
       "      <td>4.321423e+08</td>\n",
       "      <td>1.000000</td>\n",
       "      <td>0.000000</td>\n",
       "      <td>6.230000e+02</td>\n",
       "      <td>18.000000</td>\n",
       "      <td>-8019.000000</td>\n",
       "      <td>1.000000</td>\n",
       "      <td>-1.000000</td>\n",
       "      <td>0.000000</td>\n",
       "    </tr>\n",
       "    <tr>\n",
       "      <th>25%</th>\n",
       "      <td>4.321536e+08</td>\n",
       "      <td>8.000000</td>\n",
       "      <td>104.000000</td>\n",
       "      <td>1.709904e+07</td>\n",
       "      <td>33.000000</td>\n",
       "      <td>70.000000</td>\n",
       "      <td>1.000000</td>\n",
       "      <td>-1.000000</td>\n",
       "      <td>0.000000</td>\n",
       "    </tr>\n",
       "    <tr>\n",
       "      <th>50%</th>\n",
       "      <td>4.321650e+08</td>\n",
       "      <td>16.000000</td>\n",
       "      <td>180.000000</td>\n",
       "      <td>3.468141e+07</td>\n",
       "      <td>39.000000</td>\n",
       "      <td>442.000000</td>\n",
       "      <td>2.000000</td>\n",
       "      <td>-1.000000</td>\n",
       "      <td>0.000000</td>\n",
       "    </tr>\n",
       "    <tr>\n",
       "      <th>75%</th>\n",
       "      <td>4.321762e+08</td>\n",
       "      <td>21.000000</td>\n",
       "      <td>320.000000</td>\n",
       "      <td>5.204811e+07</td>\n",
       "      <td>48.000000</td>\n",
       "      <td>1410.000000</td>\n",
       "      <td>3.000000</td>\n",
       "      <td>-1.000000</td>\n",
       "      <td>0.000000</td>\n",
       "    </tr>\n",
       "    <tr>\n",
       "      <th>max</th>\n",
       "      <td>4.321876e+08</td>\n",
       "      <td>31.000000</td>\n",
       "      <td>4918.000000</td>\n",
       "      <td>6.954660e+07</td>\n",
       "      <td>95.000000</td>\n",
       "      <td>98417.000000</td>\n",
       "      <td>63.000000</td>\n",
       "      <td>871.000000</td>\n",
       "      <td>275.000000</td>\n",
       "    </tr>\n",
       "  </tbody>\n",
       "</table>\n",
       "</div>"
      ],
      "text/plain": [
       "                 id           day      duration     contactId           age  \\\n",
       "count  3.148000e+04  31480.000000  31480.000000  3.148000e+04  31480.000000   \n",
       "mean   4.321650e+08     15.799015    258.498380  3.464717e+07     40.935737   \n",
       "std    1.304725e+04      8.323251    256.576891  2.011538e+07     10.629198   \n",
       "min    4.321423e+08      1.000000      0.000000  6.230000e+02     18.000000   \n",
       "25%    4.321536e+08      8.000000    104.000000  1.709904e+07     33.000000   \n",
       "50%    4.321650e+08     16.000000    180.000000  3.468141e+07     39.000000   \n",
       "75%    4.321762e+08     21.000000    320.000000  5.204811e+07     48.000000   \n",
       "max    4.321876e+08     31.000000   4918.000000  6.954660e+07     95.000000   \n",
       "\n",
       "       accountBalance  numberOfContacts  daySinceLastCampaign  \\\n",
       "count    31480.000000      31480.000000          31480.000000   \n",
       "mean      1348.535133          2.779670             40.243679   \n",
       "std       2974.355578          3.139269            100.521310   \n",
       "min      -8019.000000          1.000000             -1.000000   \n",
       "25%         70.000000          1.000000             -1.000000   \n",
       "50%        442.000000          2.000000             -1.000000   \n",
       "75%       1410.000000          3.000000             -1.000000   \n",
       "max      98417.000000         63.000000            871.000000   \n",
       "\n",
       "       numberOfContactsLastCampaign  \n",
       "count                  31480.000000  \n",
       "mean                       0.584339  \n",
       "std                        2.469742  \n",
       "min                        0.000000  \n",
       "25%                        0.000000  \n",
       "50%                        0.000000  \n",
       "75%                        0.000000  \n",
       "max                      275.000000  "
      ]
     },
     "execution_count": 26,
     "metadata": {},
     "output_type": "execute_result"
    }
   ],
   "source": [
    "df.describe()"
   ]
  },
  {
   "cell_type": "code",
   "execution_count": 27,
   "id": "6c78f611",
   "metadata": {},
   "outputs": [
    {
     "data": {
      "text/plain": [
       "array([30, 42, 26, 34, 48, 37, 35, 40, 38, 85, 50, 27, 54, 39, 44, 53, 31,\n",
       "       32, 58, 36, 33, 49, 77, 43, 52, 57, 47, 46, 45, 28, 22, 66, 23, 51,\n",
       "       29, 68, 60, 63, 24, 56, 55, 25, 59, 41, 80, 78, 20, 61, 62, 64, 21,\n",
       "       70, 87, 65, 67, 79, 19, 73, 76, 69, 71, 83, 72, 75, 95, 84, 89, 74,\n",
       "       81, 82, 92, 18, 86, 88, 94, 93])"
      ]
     },
     "execution_count": 27,
     "metadata": {},
     "output_type": "execute_result"
    }
   ],
   "source": [
    "df['age'].unique()"
   ]
  },
  {
   "cell_type": "code",
   "execution_count": 28,
   "id": "553adca1",
   "metadata": {},
   "outputs": [
    {
     "data": {
      "text/plain": [
       "may    9514\n",
       "jul    4783\n",
       "aug    4334\n",
       "jun    3760\n",
       "nov    2781\n",
       "apr    2040\n",
       "feb    1887\n",
       "jan     958\n",
       "oct     515\n",
       "sep     410\n",
       "mar     348\n",
       "dec     150\n",
       "Name: month, dtype: int64"
      ]
     },
     "execution_count": 28,
     "metadata": {},
     "output_type": "execute_result"
    }
   ],
   "source": [
    "df['month'].value_counts()"
   ]
  },
  {
   "cell_type": "code",
   "execution_count": 29,
   "id": "dbaf1cd7",
   "metadata": {},
   "outputs": [
    {
     "data": {
      "text/plain": [
       "highSchool         16188\n",
       "uniGraduated        9251\n",
       "secondarySchool     4741\n",
       "unknown             1300\n",
       "Name: education, dtype: int64"
      ]
     },
     "execution_count": 29,
     "metadata": {},
     "output_type": "execute_result"
    }
   ],
   "source": [
    "df['education'].value_counts()"
   ]
  },
  {
   "cell_type": "code",
   "execution_count": 30,
   "id": "eaa76e2c",
   "metadata": {},
   "outputs": [
    {
     "data": {
      "text/plain": [
       "<AxesSubplot:>"
      ]
     },
     "execution_count": 30,
     "metadata": {},
     "output_type": "execute_result"
    },
    {
     "data": {
      "image/png": "[encoded data removed]",
      "text/plain": [
       "<Figure size 640x480 with 1 Axes>"
      ]
     },
     "metadata": {},
     "output_type": "display_data"
    }
   ],
   "source": [
    "df['accountBalance'].hist()"
   ]
  },
  {
   "cell_type": "markdown",
   "id": "e3cd52da",
   "metadata": {},
   "source": [
    "The dataset is clean with seemingly no outliers. I will now do some exploratory data analysis."
   ]
  },
  {
   "cell_type": "code",
   "execution_count": 31,
   "id": "fc7a1c92",
   "metadata": {},
   "outputs": [],
   "source": [
    "# save the data to a new csv file\n",
    "df.to_csv('cleaned_train.csv', index=False)"
   ]
  },
  {
   "cell_type": "code",
   "execution_count": null,
   "id": "07f2b668",
   "metadata": {},
   "outputs": [],
   "source": []
  }
 ],
 "metadata": {
  "kernelspec": {
   "display_name": "Python (myenv)",
   "language": "python",
   "name": "myenv"
  },
  "language_info": {
   "codemirror_mode": {
    "name": "ipython",
    "version": 3
   },
   "file_extension": ".py",
   "mimetype": "text/x-python",
   "name": "python",
   "nbconvert_exporter": "python",
   "pygments_lexer": "ipython3",
   "version": "3.9.13"
  }
 },
 "nbformat": 4,
 "nbformat_minor": 5
}
